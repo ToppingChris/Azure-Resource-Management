{
 "cells": [
  {
   "cell_type": "markdown",
   "metadata": {},
   "source": [
    "## Import file to manage resources"
   ]
  },
  {
   "cell_type": "code",
   "execution_count": null,
   "metadata": {},
   "outputs": [],
   "source": [
    "import create_resources\n",
    "import pprint"
   ]
  },
  {
   "cell_type": "markdown",
   "metadata": {},
   "source": [
    "## Create resource group"
   ]
  },
  {
   "cell_type": "code",
   "execution_count": null,
   "metadata": {},
   "outputs": [],
   "source": [
    "rg = create_resources.create_resource_group('rg_databricks', 'uksouth')"
   ]
  },
  {
   "cell_type": "markdown",
   "metadata": {},
   "source": [
    "## List resource groups"
   ]
  },
  {
   "cell_type": "code",
   "execution_count": null,
   "metadata": {},
   "outputs": [],
   "source": [
    "list_groups = create_resources.list_resource_groups\n",
    "list_groups()"
   ]
  },
  {
   "cell_type": "markdown",
   "metadata": {},
   "source": [
    "## Delete resource group"
   ]
  },
  {
   "cell_type": "code",
   "execution_count": null,
   "metadata": {},
   "outputs": [],
   "source": [
    "rg_name = 'rg_databricks'\n",
    "delete_group = create_resources.delete_resource_group(rg_name)\n",
    "delete_group"
   ]
  },
  {
   "cell_type": "markdown",
   "metadata": {},
   "source": [
    "## Create storage account"
   ]
  },
  {
   "cell_type": "code",
   "execution_count": null,
   "metadata": {},
   "outputs": [],
   "source": [
    "rg_name = 'rg_databricks'\n",
    "acc_name = 'sadatabricksct'\n",
    "location = 'uksouth'\n",
    "kind = 'StorageV2'\n",
    "sku = 'Standard_LRS'\n",
    "\n",
    "new_account = create_resources.create_storage_account(rg_name, acc_name, location, kind, sku)\n",
    "new_account"
   ]
  },
  {
   "cell_type": "markdown",
   "metadata": {},
   "source": [
    "## Get storage account primary access key and connection string"
   ]
  },
  {
   "cell_type": "code",
   "execution_count": null,
   "metadata": {},
   "outputs": [],
   "source": [
    "rg_name = 'rg_databricks'\n",
    "acc_name = 'sadatabricksct'\n",
    "\n",
    "access_key = create_resources.get_storage_access_key(rg_name, acc_name)\n",
    "access_key"
   ]
  },
  {
   "cell_type": "code",
   "execution_count": null,
   "metadata": {},
   "outputs": [],
   "source": [
    "rg_id = '/subscriptions/17b444a2-5928-4c9a-ac58-caa9ab1e9748/resourceGroups/rg_databricks'\n",
    "location = 'uksouth'\n",
    "rg_name = 'rg_databricks'\n",
    "sku = 'Standard'\n",
    "ws_name = 'databrickswsct'\n",
    "\n",
    "new_workspace = create_resources.create_databricks_workspace(rg_name, ws_name, location, sku, rg_id)\n",
    "new_workspace"
   ]
  },
  {
   "cell_type": "code",
   "execution_count": null,
   "metadata": {},
   "outputs": [],
   "source": []
  }
 ],
 "metadata": {
  "kernelspec": {
   "display_name": "Python 3",
   "language": "python",
   "name": "python3"
  },
  "language_info": {
   "codemirror_mode": {
    "name": "ipython",
    "version": 3
   },
   "file_extension": ".py",
   "mimetype": "text/x-python",
   "name": "python",
   "nbconvert_exporter": "python",
   "pygments_lexer": "ipython3",
   "version": "3.7.4"
  }
 },
 "nbformat": 4,
 "nbformat_minor": 2
}
